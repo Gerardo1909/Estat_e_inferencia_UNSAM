{
 "cells": [
  {
   "cell_type": "markdown",
   "metadata": {},
   "source": [
    "# Ejercicio 4 - guía 3"
   ]
  },
  {
   "cell_type": "markdown",
   "metadata": {},
   "source": [
    "En este ejercicio, utilizaremos el dataset de automóviles disponible en el siguiente enlace:\n",
    "https://archive.ics.uci.edu/static/public/9/auto+mpg.zip. Este conjunto de datos contiene información sobre varios atributos de automóviles, incluyendo Millas por galón de combustible (MPG) y Caballos de Fuerza (HP)."
   ]
  },
  {
   "cell_type": "markdown",
   "metadata": {},
   "source": [
    "## a)\n",
    "Ajustar un modelo lineal que relacione MPG con HP utilizando todos los puntos del dataset.\n",
    "Calcular el 𝑅 cuadrado para este modelo."
   ]
  },
  {
   "cell_type": "markdown",
   "metadata": {},
   "source": [
    "### Desarrollo"
   ]
  },
  {
   "cell_type": "markdown",
   "metadata": {},
   "source": [
    "Primero leo los datos del archivo csv:"
   ]
  },
  {
   "cell_type": "code",
   "execution_count": 15,
   "metadata": {},
   "outputs": [
    {
     "name": "stdout",
     "output_type": "stream",
     "text": [
      "<class 'pandas.core.frame.DataFrame'>\n",
      "RangeIndex: 398 entries, 0 to 397\n",
      "Data columns (total 9 columns):\n",
      " #   Column        Non-Null Count  Dtype  \n",
      "---  ------        --------------  -----  \n",
      " 0   mpg           398 non-null    float64\n",
      " 1   cylinders     398 non-null    int64  \n",
      " 2   displacement  398 non-null    float64\n",
      " 3   horsepower    398 non-null    object \n",
      " 4   weight        398 non-null    int64  \n",
      " 5   acceleration  398 non-null    float64\n",
      " 6   model year    398 non-null    int64  \n",
      " 7   origin        398 non-null    int64  \n",
      " 8   car name      398 non-null    object \n",
      "dtypes: float64(3), int64(4), object(2)\n",
      "memory usage: 28.1+ KB\n"
     ]
    }
   ],
   "source": [
    "import pandas as pd\n",
    "import os\n",
    "\n",
    "ruta_datos_autos = os.path.join('..', '..','datos', 'raw' ,'auto-mpg.csv')\n",
    "\n",
    "df_autos = pd.read_csv(ruta_datos_autos)\n",
    "\n",
    "df_autos.info()"
   ]
  },
  {
   "cell_type": "markdown",
   "metadata": {},
   "source": [
    "De la información del dataframe se puede ver que horsepower no está en el tipo adecuado, por lo tanto procedo a convertirlo:"
   ]
  },
  {
   "cell_type": "code",
   "execution_count": 16,
   "metadata": {},
   "outputs": [],
   "source": [
    "df_autos['horsepower'] = pd.to_numeric(df_autos['horsepower'], errors='coerce')"
   ]
  },
  {
   "cell_type": "markdown",
   "metadata": {},
   "source": [
    "Verifico valores nulos en las variables de interés:"
   ]
  },
  {
   "cell_type": "code",
   "execution_count": 17,
   "metadata": {},
   "outputs": [
    {
     "data": {
      "text/plain": [
       "np.int64(6)"
      ]
     },
     "execution_count": 17,
     "metadata": {},
     "output_type": "execute_result"
    }
   ],
   "source": [
    "df_autos['horsepower'].isnull().sum()"
   ]
  },
  {
   "cell_type": "code",
   "execution_count": 18,
   "metadata": {},
   "outputs": [
    {
     "data": {
      "text/plain": [
       "np.int64(0)"
      ]
     },
     "execution_count": 18,
     "metadata": {},
     "output_type": "execute_result"
    }
   ],
   "source": [
    "df_autos['mpg'].isnull().sum()"
   ]
  },
  {
   "cell_type": "markdown",
   "metadata": {},
   "source": [
    "Elimino todos los valores nulos del dataframe:"
   ]
  },
  {
   "cell_type": "code",
   "execution_count": 19,
   "metadata": {},
   "outputs": [],
   "source": [
    "# elimino todas las filas con valores nulos\n",
    "df_autos = df_autos.dropna()"
   ]
  },
  {
   "cell_type": "markdown",
   "metadata": {},
   "source": [
    "Ahora ajusto el modelo lineal:"
   ]
  },
  {
   "cell_type": "code",
   "execution_count": 20,
   "metadata": {},
   "outputs": [
    {
     "name": "stdout",
     "output_type": "stream",
     "text": [
      "Coeficientes del ajuste lineal= -3.838888032658009, B0 = 194.47564319018682, error medio = -7.250436079184696e-15\n"
     ]
    }
   ],
   "source": [
    "from utils.regresiones import generar_regresion_lineal_simple\n",
    "import numpy as np\n",
    "\n",
    "# Hago una estimación de los coeficientes\n",
    "B1, B0, e = generar_regresion_lineal_simple(X = df_autos['mpg'], Y = df_autos['horsepower'])\n",
    "\n",
    "print(f'Coeficientes del ajuste lineal= {B1}, B0 = {B0}, error medio = {np.mean(e)}')"
   ]
  },
  {
   "cell_type": "markdown",
   "metadata": {},
   "source": [
    "Me armo un subdataframe en donde voy a agrupar a la variable que usé como predictora, la variable objetivo y las predicciones junto con su error de cálculo:"
   ]
  },
  {
   "cell_type": "code",
   "execution_count": 21,
   "metadata": {},
   "outputs": [
    {
     "data": {
      "text/html": [
       "<div>\n",
       "<style scoped>\n",
       "    .dataframe tbody tr th:only-of-type {\n",
       "        vertical-align: middle;\n",
       "    }\n",
       "\n",
       "    .dataframe tbody tr th {\n",
       "        vertical-align: top;\n",
       "    }\n",
       "\n",
       "    .dataframe thead th {\n",
       "        text-align: right;\n",
       "    }\n",
       "</style>\n",
       "<table border=\"1\" class=\"dataframe\">\n",
       "  <thead>\n",
       "    <tr style=\"text-align: right;\">\n",
       "      <th></th>\n",
       "      <th>horsepower</th>\n",
       "      <th>MPG</th>\n",
       "      <th>Prediccion</th>\n",
       "      <th>Error</th>\n",
       "    </tr>\n",
       "  </thead>\n",
       "  <tbody>\n",
       "    <tr>\n",
       "      <th>0</th>\n",
       "      <td>130.0</td>\n",
       "      <td>18.0</td>\n",
       "      <td>125.375659</td>\n",
       "      <td>4.624341</td>\n",
       "    </tr>\n",
       "    <tr>\n",
       "      <th>1</th>\n",
       "      <td>165.0</td>\n",
       "      <td>15.0</td>\n",
       "      <td>136.892323</td>\n",
       "      <td>28.107677</td>\n",
       "    </tr>\n",
       "    <tr>\n",
       "      <th>2</th>\n",
       "      <td>150.0</td>\n",
       "      <td>18.0</td>\n",
       "      <td>125.375659</td>\n",
       "      <td>24.624341</td>\n",
       "    </tr>\n",
       "    <tr>\n",
       "      <th>3</th>\n",
       "      <td>150.0</td>\n",
       "      <td>16.0</td>\n",
       "      <td>133.053435</td>\n",
       "      <td>16.946565</td>\n",
       "    </tr>\n",
       "    <tr>\n",
       "      <th>4</th>\n",
       "      <td>140.0</td>\n",
       "      <td>17.0</td>\n",
       "      <td>129.214547</td>\n",
       "      <td>10.785453</td>\n",
       "    </tr>\n",
       "  </tbody>\n",
       "</table>\n",
       "</div>"
      ],
      "text/plain": [
       "   horsepower   MPG  Prediccion      Error\n",
       "0       130.0  18.0  125.375659   4.624341\n",
       "1       165.0  15.0  136.892323  28.107677\n",
       "2       150.0  18.0  125.375659  24.624341\n",
       "3       150.0  16.0  133.053435  16.946565\n",
       "4       140.0  17.0  129.214547  10.785453"
      ]
     },
     "execution_count": 21,
     "metadata": {},
     "output_type": "execute_result"
    }
   ],
   "source": [
    "df_experimento = pd.DataFrame({\n",
    "    'horsepower': df_autos['horsepower'],\n",
    "    'MPG': df_autos['mpg'],\n",
    "    'Prediccion': B0 + B1*df_autos['mpg'],\n",
    "    'Error': e\n",
    "})\n",
    "\n",
    "df_experimento.head()"
   ]
  },
  {
   "cell_type": "markdown",
   "metadata": {},
   "source": [
    "Ahora calculo el R cuadrado:"
   ]
  },
  {
   "cell_type": "code",
   "execution_count": 22,
   "metadata": {},
   "outputs": [
    {
     "name": "stdout",
     "output_type": "stream",
     "text": [
      "El coeficiente de determinación es 0.6059482578894362\n"
     ]
    }
   ],
   "source": [
    "def calcular_r2(Y: pd.Series, Y_pred: pd.Series) -> float:\n",
    "    '''\n",
    "    Calcula el coeficiente de determinación de un modelo de regresión lineal\n",
    "    '''\n",
    "    \n",
    "    TSS = sum((Y - Y.mean())**2)\n",
    "    RSS = sum((Y - Y_pred)**2)\n",
    "    \n",
    "    return 1 - RSS/TSS\n",
    "\n",
    "# Calculo el coeficiente de determinación de nuestra regresión calculada\n",
    "r2 = calcular_r2(df_experimento['horsepower'], df_experimento['Prediccion'])\n",
    "print(f'El coeficiente de determinación es {r2}')"
   ]
  },
  {
   "cell_type": "markdown",
   "metadata": {},
   "source": [
    "### (i)\n",
    "Ajustar logaritmo de MPG vs HP y calcular 𝑅2."
   ]
  },
  {
   "cell_type": "markdown",
   "metadata": {},
   "source": [
    "Añado una nueva columna al dataframe que creé tomando el logaritmo de MPG, genero el modelo y calculo el R cuadrado:"
   ]
  },
  {
   "cell_type": "code",
   "execution_count": 23,
   "metadata": {},
   "outputs": [
    {
     "name": "stdout",
     "output_type": "stream",
     "text": [
      "Coeficientes del ajuste lineal= -93.97050440243893, B0 = 395.61941876339455, R2 = 0.6891575108068915\n"
     ]
    }
   ],
   "source": [
    "df_experimento['log_MPG'] = np.log(df_experimento['MPG'])\n",
    "\n",
    "B1_log_log, B0_log_log, e_log_log = generar_regresion_lineal_simple(X = df_experimento['log_MPG'], Y = df_experimento['horsepower'])\n",
    "\n",
    "print(f'Coeficientes del ajuste lineal= {B1_log_log}, B0 = {B0_log_log}, R2 = {calcular_r2(df_experimento[\"horsepower\"], B0_log_log + B1_log_log*df_experimento[\"log_MPG\"])}')"
   ]
  },
  {
   "cell_type": "markdown",
   "metadata": {},
   "source": [
    "### (ii)\n",
    "Ajustar logaritmo de MPG vs logaritmo HP y calcular 𝑅2."
   ]
  },
  {
   "cell_type": "markdown",
   "metadata": {},
   "source": [
    "Sigo el mismo procedimiento que antes pero añadiendo una nueva columna al dataframe tomando logaritmo de horsepower:"
   ]
  },
  {
   "cell_type": "code",
   "execution_count": 24,
   "metadata": {},
   "outputs": [
    {
     "name": "stdout",
     "output_type": "stream",
     "text": [
      "Coeficientes del ajuste lineal= -0.8584656841907069, B0 = 7.24772673162475, R2 = 0.7226967512359872\n"
     ]
    }
   ],
   "source": [
    "df_experimento['log_horsepower'] = np.log(df_experimento['horsepower'])\n",
    "\n",
    "B1_log_log, B0_log_log, e_log_log = generar_regresion_lineal_simple(X = df_experimento['log_MPG'], Y = df_experimento['log_horsepower'])\n",
    "\n",
    "print(f'Coeficientes del ajuste lineal= {B1_log_log}, B0 = {B0_log_log}, R2 = {calcular_r2(df_experimento[\"log_horsepower\"], B0_log_log + B1_log_log*df_experimento[\"log_MPG\"])}')"
   ]
  },
  {
   "cell_type": "markdown",
   "metadata": {},
   "source": [
    "## b)\n",
    "Veamos qué pasa si no usamos todo el dataset sino sólo un porcentaje."
   ]
  },
  {
   "cell_type": "markdown",
   "metadata": {},
   "source": [
    "### (i)\n",
    "Ajustar un modelo lineal a MPG vs HP, pero esta vez utilizando solo el 80% de los puntos\n",
    "del dataset seleccionados al azar. ¿Cuánto vale 𝑅2?, ¿Y sobre el 20% restante de los\n",
    "puntos?"
   ]
  },
  {
   "cell_type": "markdown",
   "metadata": {},
   "source": [
    "Separo los datos del dataframe entre 80% y 20% para ajustar los dos modelos y compararlos:"
   ]
  },
  {
   "cell_type": "code",
   "execution_count": 25,
   "metadata": {},
   "outputs": [
    {
     "name": "stdout",
     "output_type": "stream",
     "text": [
      "Coeficientes del ajuste lineal= -3.6831182952011883, B0 = 189.53252714587018, R2 = 0.6099365420676865\n",
      "Coeficientes del ajuste lineal= -4.398320960155555, B0 = 212.71670046599036, R2 = 0.6172997809502476\n"
     ]
    }
   ],
   "source": [
    "# Tomo un 80% de los datos aleatoriamente y dejo el otro 20% en otro dataframe\n",
    "df_80 = df_experimento.sample(frac=0.8)\n",
    "df_20 = df_experimento.drop(df_80.index)\n",
    "\n",
    "# Ajusto dos modelos de MPG vs horsepower con los dos dataframes\n",
    "B1_80, B0_80, e_80 = generar_regresion_lineal_simple(X = df_80['MPG'], Y = df_80['horsepower'])\n",
    "B1_20, B0_20, e_20 = generar_regresion_lineal_simple(X = df_20['MPG'], Y = df_20['horsepower'])\n",
    "\n",
    "print(f'Coeficientes del ajuste lineal= {B1_80}, B0 = {B0_80}, R2 = {calcular_r2(df_80[\"horsepower\"], B0_80 + B1_80*df_80[\"MPG\"])}')\n",
    "print(f'Coeficientes del ajuste lineal= {B1_20}, B0 = {B0_20}, R2 = {calcular_r2(df_20[\"horsepower\"], B0_20 + B1_20*df_20[\"MPG\"])}')"
   ]
  },
  {
   "cell_type": "code",
   "execution_count": 26,
   "metadata": {},
   "outputs": [
    {
     "data": {
      "text/html": [
       "<div>\n",
       "<style scoped>\n",
       "    .dataframe tbody tr th:only-of-type {\n",
       "        vertical-align: middle;\n",
       "    }\n",
       "\n",
       "    .dataframe tbody tr th {\n",
       "        vertical-align: top;\n",
       "    }\n",
       "\n",
       "    .dataframe thead th {\n",
       "        text-align: right;\n",
       "    }\n",
       "</style>\n",
       "<table border=\"1\" class=\"dataframe\">\n",
       "  <thead>\n",
       "    <tr style=\"text-align: right;\">\n",
       "      <th></th>\n",
       "      <th>mpg</th>\n",
       "      <th>cylinders</th>\n",
       "      <th>displacement</th>\n",
       "      <th>horsepower</th>\n",
       "      <th>weight</th>\n",
       "      <th>acceleration</th>\n",
       "      <th>model year</th>\n",
       "      <th>origin</th>\n",
       "      <th>car name</th>\n",
       "    </tr>\n",
       "  </thead>\n",
       "  <tbody>\n",
       "    <tr>\n",
       "      <th>0</th>\n",
       "      <td>18.0</td>\n",
       "      <td>8</td>\n",
       "      <td>307.0</td>\n",
       "      <td>130.0</td>\n",
       "      <td>3504</td>\n",
       "      <td>12.0</td>\n",
       "      <td>70</td>\n",
       "      <td>1</td>\n",
       "      <td>chevrolet chevelle malibu</td>\n",
       "    </tr>\n",
       "    <tr>\n",
       "      <th>1</th>\n",
       "      <td>15.0</td>\n",
       "      <td>8</td>\n",
       "      <td>350.0</td>\n",
       "      <td>165.0</td>\n",
       "      <td>3693</td>\n",
       "      <td>11.5</td>\n",
       "      <td>70</td>\n",
       "      <td>1</td>\n",
       "      <td>buick skylark 320</td>\n",
       "    </tr>\n",
       "    <tr>\n",
       "      <th>2</th>\n",
       "      <td>18.0</td>\n",
       "      <td>8</td>\n",
       "      <td>318.0</td>\n",
       "      <td>150.0</td>\n",
       "      <td>3436</td>\n",
       "      <td>11.0</td>\n",
       "      <td>70</td>\n",
       "      <td>1</td>\n",
       "      <td>plymouth satellite</td>\n",
       "    </tr>\n",
       "    <tr>\n",
       "      <th>3</th>\n",
       "      <td>16.0</td>\n",
       "      <td>8</td>\n",
       "      <td>304.0</td>\n",
       "      <td>150.0</td>\n",
       "      <td>3433</td>\n",
       "      <td>12.0</td>\n",
       "      <td>70</td>\n",
       "      <td>1</td>\n",
       "      <td>amc rebel sst</td>\n",
       "    </tr>\n",
       "    <tr>\n",
       "      <th>4</th>\n",
       "      <td>17.0</td>\n",
       "      <td>8</td>\n",
       "      <td>302.0</td>\n",
       "      <td>140.0</td>\n",
       "      <td>3449</td>\n",
       "      <td>10.5</td>\n",
       "      <td>70</td>\n",
       "      <td>1</td>\n",
       "      <td>ford torino</td>\n",
       "    </tr>\n",
       "    <tr>\n",
       "      <th>...</th>\n",
       "      <td>...</td>\n",
       "      <td>...</td>\n",
       "      <td>...</td>\n",
       "      <td>...</td>\n",
       "      <td>...</td>\n",
       "      <td>...</td>\n",
       "      <td>...</td>\n",
       "      <td>...</td>\n",
       "      <td>...</td>\n",
       "    </tr>\n",
       "    <tr>\n",
       "      <th>393</th>\n",
       "      <td>27.0</td>\n",
       "      <td>4</td>\n",
       "      <td>140.0</td>\n",
       "      <td>86.0</td>\n",
       "      <td>2790</td>\n",
       "      <td>15.6</td>\n",
       "      <td>82</td>\n",
       "      <td>1</td>\n",
       "      <td>ford mustang gl</td>\n",
       "    </tr>\n",
       "    <tr>\n",
       "      <th>394</th>\n",
       "      <td>44.0</td>\n",
       "      <td>4</td>\n",
       "      <td>97.0</td>\n",
       "      <td>52.0</td>\n",
       "      <td>2130</td>\n",
       "      <td>24.6</td>\n",
       "      <td>82</td>\n",
       "      <td>2</td>\n",
       "      <td>vw pickup</td>\n",
       "    </tr>\n",
       "    <tr>\n",
       "      <th>395</th>\n",
       "      <td>32.0</td>\n",
       "      <td>4</td>\n",
       "      <td>135.0</td>\n",
       "      <td>84.0</td>\n",
       "      <td>2295</td>\n",
       "      <td>11.6</td>\n",
       "      <td>82</td>\n",
       "      <td>1</td>\n",
       "      <td>dodge rampage</td>\n",
       "    </tr>\n",
       "    <tr>\n",
       "      <th>396</th>\n",
       "      <td>28.0</td>\n",
       "      <td>4</td>\n",
       "      <td>120.0</td>\n",
       "      <td>79.0</td>\n",
       "      <td>2625</td>\n",
       "      <td>18.6</td>\n",
       "      <td>82</td>\n",
       "      <td>1</td>\n",
       "      <td>ford ranger</td>\n",
       "    </tr>\n",
       "    <tr>\n",
       "      <th>397</th>\n",
       "      <td>31.0</td>\n",
       "      <td>4</td>\n",
       "      <td>119.0</td>\n",
       "      <td>82.0</td>\n",
       "      <td>2720</td>\n",
       "      <td>19.4</td>\n",
       "      <td>82</td>\n",
       "      <td>1</td>\n",
       "      <td>chevy s-10</td>\n",
       "    </tr>\n",
       "  </tbody>\n",
       "</table>\n",
       "<p>392 rows × 9 columns</p>\n",
       "</div>"
      ],
      "text/plain": [
       "      mpg  cylinders  displacement  horsepower  weight  acceleration  \\\n",
       "0    18.0          8         307.0       130.0    3504          12.0   \n",
       "1    15.0          8         350.0       165.0    3693          11.5   \n",
       "2    18.0          8         318.0       150.0    3436          11.0   \n",
       "3    16.0          8         304.0       150.0    3433          12.0   \n",
       "4    17.0          8         302.0       140.0    3449          10.5   \n",
       "..    ...        ...           ...         ...     ...           ...   \n",
       "393  27.0          4         140.0        86.0    2790          15.6   \n",
       "394  44.0          4          97.0        52.0    2130          24.6   \n",
       "395  32.0          4         135.0        84.0    2295          11.6   \n",
       "396  28.0          4         120.0        79.0    2625          18.6   \n",
       "397  31.0          4         119.0        82.0    2720          19.4   \n",
       "\n",
       "     model year  origin                   car name  \n",
       "0            70       1  chevrolet chevelle malibu  \n",
       "1            70       1          buick skylark 320  \n",
       "2            70       1         plymouth satellite  \n",
       "3            70       1              amc rebel sst  \n",
       "4            70       1                ford torino  \n",
       "..          ...     ...                        ...  \n",
       "393          82       1            ford mustang gl  \n",
       "394          82       2                  vw pickup  \n",
       "395          82       1              dodge rampage  \n",
       "396          82       1                ford ranger  \n",
       "397          82       1                 chevy s-10  \n",
       "\n",
       "[392 rows x 9 columns]"
      ]
     },
     "execution_count": 26,
     "metadata": {},
     "output_type": "execute_result"
    }
   ],
   "source": [
    "df_autos"
   ]
  },
  {
   "cell_type": "markdown",
   "metadata": {},
   "source": [
    "## c)\n",
    "Utilizando el dataset completo, realizar ajustes lineales para relacionar MPG con cada una\n",
    "de las variables. Ordenar las variables de acuerdo al 𝑅2 obtenido de la más importante a la\n",
    "menos importante."
   ]
  },
  {
   "cell_type": "code",
   "execution_count": 27,
   "metadata": {},
   "outputs": [
    {
     "data": {
      "text/html": [
       "<div>\n",
       "<style scoped>\n",
       "    .dataframe tbody tr th:only-of-type {\n",
       "        vertical-align: middle;\n",
       "    }\n",
       "\n",
       "    .dataframe tbody tr th {\n",
       "        vertical-align: top;\n",
       "    }\n",
       "\n",
       "    .dataframe thead th {\n",
       "        text-align: right;\n",
       "    }\n",
       "</style>\n",
       "<table border=\"1\" class=\"dataframe\">\n",
       "  <thead>\n",
       "    <tr style=\"text-align: right;\">\n",
       "      <th></th>\n",
       "      <th>Var_Objetivo</th>\n",
       "      <th>Var_Independiente</th>\n",
       "      <th>B0</th>\n",
       "      <th>B1</th>\n",
       "      <th>R2</th>\n",
       "    </tr>\n",
       "  </thead>\n",
       "  <tbody>\n",
       "    <tr>\n",
       "      <th>3</th>\n",
       "      <td>mpg</td>\n",
       "      <td>weight</td>\n",
       "      <td>46.216525</td>\n",
       "      <td>-0.007647</td>\n",
       "      <td>0.692630</td>\n",
       "    </tr>\n",
       "    <tr>\n",
       "      <th>1</th>\n",
       "      <td>mpg</td>\n",
       "      <td>displacement</td>\n",
       "      <td>35.120636</td>\n",
       "      <td>-0.060051</td>\n",
       "      <td>0.648229</td>\n",
       "    </tr>\n",
       "    <tr>\n",
       "      <th>2</th>\n",
       "      <td>mpg</td>\n",
       "      <td>horsepower</td>\n",
       "      <td>39.935861</td>\n",
       "      <td>-0.157845</td>\n",
       "      <td>0.605948</td>\n",
       "    </tr>\n",
       "    <tr>\n",
       "      <th>0</th>\n",
       "      <td>mpg</td>\n",
       "      <td>cylinders</td>\n",
       "      <td>42.915505</td>\n",
       "      <td>-3.558078</td>\n",
       "      <td>0.604689</td>\n",
       "    </tr>\n",
       "    <tr>\n",
       "      <th>5</th>\n",
       "      <td>mpg</td>\n",
       "      <td>model year</td>\n",
       "      <td>-70.011674</td>\n",
       "      <td>1.230035</td>\n",
       "      <td>0.337028</td>\n",
       "    </tr>\n",
       "    <tr>\n",
       "      <th>6</th>\n",
       "      <td>mpg</td>\n",
       "      <td>origin</td>\n",
       "      <td>14.811974</td>\n",
       "      <td>5.476547</td>\n",
       "      <td>0.319461</td>\n",
       "    </tr>\n",
       "    <tr>\n",
       "      <th>4</th>\n",
       "      <td>mpg</td>\n",
       "      <td>acceleration</td>\n",
       "      <td>4.833250</td>\n",
       "      <td>1.197624</td>\n",
       "      <td>0.179207</td>\n",
       "    </tr>\n",
       "  </tbody>\n",
       "</table>\n",
       "</div>"
      ],
      "text/plain": [
       "  Var_Objetivo Var_Independiente         B0        B1        R2\n",
       "3          mpg            weight  46.216525 -0.007647  0.692630\n",
       "1          mpg      displacement  35.120636 -0.060051  0.648229\n",
       "2          mpg        horsepower  39.935861 -0.157845  0.605948\n",
       "0          mpg         cylinders  42.915505 -3.558078  0.604689\n",
       "5          mpg        model year -70.011674  1.230035  0.337028\n",
       "6          mpg            origin  14.811974  5.476547  0.319461\n",
       "4          mpg      acceleration   4.833250  1.197624  0.179207"
      ]
     },
     "execution_count": 27,
     "metadata": {},
     "output_type": "execute_result"
    }
   ],
   "source": [
    "# Tomo MPG como variable dependiente y el resto como independientes\n",
    "X = df_autos[['cylinders', 'displacement', 'horsepower', 'weight', 'acceleration', 'model year', 'origin']]\n",
    "Y = df_autos['mpg']\n",
    "\n",
    "# Armo una para guardar los datos de cada modelo\n",
    "modelos = []\n",
    "\n",
    "# Ajusto un modelo de regresión lineal simple para cada variable independiente\n",
    "for var in X.columns:\n",
    "    B1, B0, e = generar_regresion_lineal_simple(X = X[var], Y = Y)\n",
    "    r2 = calcular_r2(Y, B0 + B1*X[var])\n",
    "    modelos.append({\n",
    "        'Var_Objetivo': 'mpg',\n",
    "        'Var_Independiente': var,\n",
    "        'B0': B0,\n",
    "        'B1': B1,\n",
    "        'R2': r2\n",
    "    })\n",
    "\n",
    "# Convierto la lista de diccionarios en un DataFrame\n",
    "df_modelos = pd.DataFrame(modelos)\n",
    "df_modelos.sort_values('R2', ascending=False)"
   ]
  },
  {
   "cell_type": "markdown",
   "metadata": {},
   "source": [
    "## Guardo el archivo para usarlo en posteriores ejercicios"
   ]
  },
  {
   "cell_type": "code",
   "execution_count": 28,
   "metadata": {},
   "outputs": [],
   "source": [
    "ruta_guardado_autos = os.path.join('..', '..','datos', 'processed' ,'auto-mpg-processed.csv')\n",
    "\n",
    "df_autos.to_csv(ruta_guardado_autos, index=False)"
   ]
  }
 ],
 "metadata": {
  "kernelspec": {
   "display_name": "estat_inferencia",
   "language": "python",
   "name": "python3"
  },
  "language_info": {
   "codemirror_mode": {
    "name": "ipython",
    "version": 3
   },
   "file_extension": ".py",
   "mimetype": "text/x-python",
   "name": "python",
   "nbconvert_exporter": "python",
   "pygments_lexer": "ipython3",
   "version": "3.11.4"
  }
 },
 "nbformat": 4,
 "nbformat_minor": 2
}
