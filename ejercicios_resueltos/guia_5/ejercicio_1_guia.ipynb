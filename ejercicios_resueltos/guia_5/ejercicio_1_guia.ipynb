{
 "cells": [
  {
   "cell_type": "markdown",
   "metadata": {},
   "source": [
    "# Ejercicio 1 - guía 5"
   ]
  },
  {
   "cell_type": "markdown",
   "metadata": {},
   "source": [
    "Generar 30 samples de una distribución Bernoulli de parámetro 𝑝 = 0.3."
   ]
  },
  {
   "cell_type": "markdown",
   "metadata": {},
   "source": [
    "## a)\n",
    "Encontrar el estimador plug-in del desvío estándar 𝜎 de la distribución."
   ]
  },
  {
   "cell_type": "markdown",
   "metadata": {},
   "source": [
    "### Desarrollo"
   ]
  },
  {
   "cell_type": "markdown",
   "metadata": {},
   "source": [
    "Primero genero los samples de la distribución que me pidieron:"
   ]
  },
  {
   "cell_type": "code",
   "execution_count": 1,
   "metadata": {},
   "outputs": [],
   "source": [
    "from scipy.stats import bernoulli\n",
    "\n",
    "# Planto una semilla para que los resultados sean reproducibles\n",
    "bernoulli.random_state = 42\n",
    "\n",
    "muestra = bernoulli.rvs(p=0.3, size=30)"
   ]
  },
  {
   "cell_type": "markdown",
   "metadata": {},
   "source": [
    "Y ahora encuentro el estimador plug-in del desvío estándar de la distribución:"
   ]
  },
  {
   "cell_type": "code",
   "execution_count": 5,
   "metadata": {},
   "outputs": [
    {
     "name": "stdout",
     "output_type": "stream",
     "text": [
      "Estimador plug-in del desvío estándar: 0.4229525846816506\n"
     ]
    }
   ],
   "source": [
    "estimador = muestra.std()\n",
    "\n",
    "print(f'Estimador plug-in del desvío estándar: {estimador}')"
   ]
  },
  {
   "cell_type": "markdown",
   "metadata": {},
   "source": [
    "## b)\n",
    "Estimar su error estándar usando bootstrap."
   ]
  },
  {
   "cell_type": "markdown",
   "metadata": {},
   "source": [
    "### Desarrollo"
   ]
  },
  {
   "cell_type": "markdown",
   "metadata": {},
   "source": [
    "Defino un **n** que represente la cantidad de iteraciones bootstrap y armo una matriz de la misma longitud **n** donde voy\n",
    "guardando el desvío estándar de cada muestreo, para luego calcular su error estándar: "
   ]
  },
  {
   "cell_type": "code",
   "execution_count": 7,
   "metadata": {},
   "outputs": [
    {
     "name": "stdout",
     "output_type": "stream",
     "text": [
      "Error estándar del estimador del desvío estándar: 0.001620054738352354\n"
     ]
    }
   ],
   "source": [
    "import numpy as np\n",
    "from scipy.stats import sem\n",
    "\n",
    "n = 1000\n",
    "estimadores = np.zeros(n)\n",
    "for i in range(n):\n",
    "    muestra_bootstrap = np.random.choice(muestra, size=len(muestra), replace=True)\n",
    "    estimadores[i] = muestra_bootstrap.std()\n",
    "    \n",
    "error_estandar = sem(estimadores)\n",
    "print(f'Error estándar del estimador del desvío estándar: {error_estandar}')"
   ]
  },
  {
   "cell_type": "markdown",
   "metadata": {},
   "source": [
    "## c)\n",
    "Encontrar un intervalo de confianza de nivel 0.95 usando los métodos normal, percentile\n",
    "bootstrap, basic bootstrap y BCa."
   ]
  },
  {
   "cell_type": "markdown",
   "metadata": {},
   "source": [
    "### Desarrollo"
   ]
  },
  {
   "cell_type": "code",
   "execution_count": 12,
   "metadata": {},
   "outputs": [
    {
     "name": "stdout",
     "output_type": "stream",
     "text": [
      "Intervalo de confianza para la desviación estándar usando el método normal: (np.float64(0.41977727739447995), np.float64(0.4261278919688212))\n",
      "Intervalo de confianza para la desviación estándar usando el método percentil: [0.3        0.48989795]\n",
      "Intervalo de confianza para la desviación estándar usando el basic bootstrap: (np.float64(0.3560072208066655), np.float64(0.5459051693633012))\n",
      "Intervalo de confianza para la desviación estándar usando el BCa bootstrap: [0.3] - [0.48189441]\n"
     ]
    }
   ],
   "source": [
    "from arch.bootstrap import IIDBootstrap\n",
    "\n",
    "# Armo un intervalo de confianza 0.95 para la desviación estándar usando el método normal\n",
    "intervalo_normal = (estimador - 1.96 * error_estandar, estimador + 1.96 * error_estandar)\n",
    "\n",
    "# Armo un intervalo de confianza 0.95 para la desviación estándar usando el método percentil\n",
    "intervalo_percentil = np.percentile(estimadores, [2.5, 97.5])\n",
    "\n",
    "# Armo un intervalo de confianza 0.95 para la desviación estándar usando el basic bootstrap\n",
    "intervalo_basic = (2 * estimador - np.percentile(estimadores, 97.5), 2 * estimador - np.percentile(estimadores, 2.5))\n",
    "\n",
    "# Armo un intervalo de confianza 0.95 para la desviación estándar usando el BCa bootstrap\n",
    "bs = IIDBootstrap(muestra)\n",
    "intervalo_bca = bs.conf_int(np.std, method='bca', reps=1000)\n",
    "\n",
    "print(f'Intervalo de confianza para la desviación estándar usando el método normal: {intervalo_normal}')\n",
    "print(f'Intervalo de confianza para la desviación estándar usando el método percentil: {intervalo_percentil}')\n",
    "print(f'Intervalo de confianza para la desviación estándar usando el basic bootstrap: {intervalo_basic}')\n",
    "print(f'Intervalo de confianza para la desviación estándar usando el BCa bootstrap: {intervalo_bca[0]} - {intervalo_bca[1]}')"
   ]
  }
 ],
 "metadata": {
  "kernelspec": {
   "display_name": "estat_inferencia",
   "language": "python",
   "name": "python3"
  },
  "language_info": {
   "codemirror_mode": {
    "name": "ipython",
    "version": 3
   },
   "file_extension": ".py",
   "mimetype": "text/x-python",
   "name": "python",
   "nbconvert_exporter": "python",
   "pygments_lexer": "ipython3",
   "version": "3.11.4"
  }
 },
 "nbformat": 4,
 "nbformat_minor": 2
}
