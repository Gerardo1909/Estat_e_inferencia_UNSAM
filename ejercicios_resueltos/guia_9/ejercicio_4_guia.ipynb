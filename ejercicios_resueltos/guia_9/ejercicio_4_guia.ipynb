{
 "cells": [
  {
   "cell_type": "markdown",
   "metadata": {},
   "source": [
    "# Ejercicio 4 - guía 9"
   ]
  },
  {
   "cell_type": "markdown",
   "metadata": {},
   "source": [
    "Una muestra de estudiantes es medida en altura cada año durante 3 años. Después del tercer\n",
    "año, se quiere ajustar una regresión lineal bayesiana para predecir la altura usando el año como\n",
    "predictor. Escribir la definición matemática para esta regresión, justificando la elección de priors."
   ]
  },
  {
   "cell_type": "markdown",
   "metadata": {},
   "source": [
    "## a)\n",
    "Supongamos que cada estudiante creció cada año. ¿Es necesario cambiar la elección de\n",
    "priors?"
   ]
  },
  {
   "cell_type": "markdown",
   "metadata": {},
   "source": [
    "### Desarrollo"
   ]
  },
  {
   "cell_type": "markdown",
   "metadata": {},
   "source": [
    "Como me piden una regresión lineal, la altura debería modelarse como:\n",
    "\n",
    "**Altura estudiantes en cm ~ Altura media inicial + Año de medición.Taza de crecimiento**\n",
    "\n",
    "Ahora paso a identificar la distribución de cada variable implicada en el problema:\n",
    "\n",
    "* La altura **y**, al tratarse de una regresión podemos decir que sigue la siguiente distribución: **y ~ N(𝜇, desviación altura)**, \n",
    "  en donde **𝜇** es la firma del modelo definida anteriormente\n",
    "\n",
    "* La altura media inicial **𝛽0** se podría pensar que sigue la siguiente distribución: **𝛽0 ~ N(160, 20)**, pensando \n",
    "  la altura en centímetros, lo normal es que la media esté alrededor de 160 y con una desviación de 20 centímetros.\n",
    "\n",
    "* La taza de crecimiento **𝛽1**, como lo indica el enunciado de este inciso, debe tomar en cuenta que los estudiantes crecieron\n",
    "  cada año, es decir que no debería permitir valores negativos, lo que nos lleva a que siga la siguiente distribución: **𝛽0 ~ Halfnormal(3)**, \n",
    "  una distribución que solo admite valores positivos y que además le coloco poca varianza ya que no se espera que los alumnos crezcan demasiado.\n",
    "\n",
    "* La desviación o **\"sigma\"** lo normal es modelarla con una distribución **HalfNormal** para que solo acepte valores positivos, en principio \n",
    "  decido colocar un valor arbitrario para su varianza."
   ]
  },
  {
   "cell_type": "markdown",
   "metadata": {},
   "source": [
    "## b)\n",
    "Supongamos que la varianza entre las alturas de los estudiantes de la misma edad nunca es\n",
    "más de 64 cm. ¿Lleva esto a revisar los priors?"
   ]
  },
  {
   "cell_type": "markdown",
   "metadata": {},
   "source": [
    "### Desarrollo"
   ]
  },
  {
   "cell_type": "markdown",
   "metadata": {},
   "source": [
    "Esto nos llevaría a revisar es la varianza del modelo como tal, es decir **\"sigma\"**, la cual debería pasar a ser:\n",
    "\n",
    "* **sigma ~ Halfnormal(8)**\n",
    "\n",
    "En donde solo sigue admitiendo valores positivos pero que además en el parámetro de desviación **es 8**, que elevado al cuadrado dá **64** que es \n",
    "el valor máximo que podríamos esperar como varianza entre alturas."
   ]
  }
 ],
 "metadata": {
  "kernelspec": {
   "display_name": "estat_inferencia",
   "language": "python",
   "name": "python3"
  },
  "language_info": {
   "codemirror_mode": {
    "name": "ipython",
    "version": 3
   },
   "file_extension": ".py",
   "mimetype": "text/x-python",
   "name": "python",
   "nbconvert_exporter": "python",
   "pygments_lexer": "ipython3",
   "version": "3.11.4"
  }
 },
 "nbformat": 4,
 "nbformat_minor": 2
}
