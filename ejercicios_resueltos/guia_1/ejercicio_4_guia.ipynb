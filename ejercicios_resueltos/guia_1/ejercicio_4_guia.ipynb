{
 "cells": [
  {
   "cell_type": "markdown",
   "metadata": {},
   "source": [
    "# Ejercicio 4 - guía 1"
   ]
  },
  {
   "cell_type": "markdown",
   "metadata": {},
   "source": [
    "En 1975 se llevó a cabo un experimento para ver si la siembra de nubes producía lluvia. Se\n",
    "sembraron 26 nubes con nitrato de plata y otras 26 no fueron sembradas. En https://dasl.datadescription.com/datafile/cloud-seeding/ se encuentra el dataset con la\n",
    "cantidad de lluvia que generó cada nube en cada uno de los dos grupos. Llamamos 𝜃 a la diferencia entre la precipitación media de los dos grupos."
   ]
  },
  {
   "cell_type": "markdown",
   "metadata": {},
   "source": [
    "## a) \n",
    "Estimar 𝜃"
   ]
  },
  {
   "cell_type": "markdown",
   "metadata": {},
   "source": [
    "### Desarrollo"
   ]
  },
  {
   "cell_type": "markdown",
   "metadata": {},
   "source": [
    "Primero paso a leer el archivo donde se encuentran los datos con pandas: "
   ]
  },
  {
   "cell_type": "code",
   "execution_count": 1,
   "metadata": {},
   "outputs": [
    {
     "data": {
      "text/html": [
       "<div>\n",
       "<style scoped>\n",
       "    .dataframe tbody tr th:only-of-type {\n",
       "        vertical-align: middle;\n",
       "    }\n",
       "\n",
       "    .dataframe tbody tr th {\n",
       "        vertical-align: top;\n",
       "    }\n",
       "\n",
       "    .dataframe thead th {\n",
       "        text-align: right;\n",
       "    }\n",
       "</style>\n",
       "<table border=\"1\" class=\"dataframe\">\n",
       "  <thead>\n",
       "    <tr style=\"text-align: right;\">\n",
       "      <th></th>\n",
       "      <th>Unseeded Clouds</th>\n",
       "      <th>Seeded Clouds</th>\n",
       "    </tr>\n",
       "  </thead>\n",
       "  <tbody>\n",
       "    <tr>\n",
       "      <th>0</th>\n",
       "      <td>1202.6</td>\n",
       "      <td>2745.6</td>\n",
       "    </tr>\n",
       "    <tr>\n",
       "      <th>1</th>\n",
       "      <td>830.1</td>\n",
       "      <td>1697.8</td>\n",
       "    </tr>\n",
       "    <tr>\n",
       "      <th>2</th>\n",
       "      <td>372.4</td>\n",
       "      <td>1656.0</td>\n",
       "    </tr>\n",
       "    <tr>\n",
       "      <th>3</th>\n",
       "      <td>345.5</td>\n",
       "      <td>978.0</td>\n",
       "    </tr>\n",
       "    <tr>\n",
       "      <th>4</th>\n",
       "      <td>321.2</td>\n",
       "      <td>703.4</td>\n",
       "    </tr>\n",
       "  </tbody>\n",
       "</table>\n",
       "</div>"
      ],
      "text/plain": [
       "   Unseeded Clouds  Seeded Clouds\n",
       "0           1202.6         2745.6\n",
       "1            830.1         1697.8\n",
       "2            372.4         1656.0\n",
       "3            345.5          978.0\n",
       "4            321.2          703.4"
      ]
     },
     "execution_count": 1,
     "metadata": {},
     "output_type": "execute_result"
    }
   ],
   "source": [
    "import pandas as pd \n",
    "import os \n",
    "\n",
    "ruta_data_cloud = os.path.join('..', '..','datos', 'raw','cloud_data.csv')\n",
    "\n",
    "df_datos_cloud = pd.read_csv(ruta_data_cloud)\n",
    "\n",
    "df_datos_cloud.head()"
   ]
  },
  {
   "cell_type": "markdown",
   "metadata": {},
   "source": [
    "Ahora armo histogramas de ambos grupos superpuestos para analizar la diferencia entre ambos:"
   ]
  },
  {
   "cell_type": "code",
   "execution_count": 2,
   "metadata": {},
   "outputs": [
    {
     "data": {
      "image/png": "[encoded data removed]",
      "text/plain": [
       "<Figure size 640x480 with 1 Axes>"
      ]
     },
     "metadata": {},
     "output_type": "display_data"
    }
   ],
   "source": [
    "import matplotlib.pyplot as plt\n",
    "\n",
    "plt.hist(df_datos_cloud['Unseeded Clouds'].values, alpha=0.5,density= True, label='Unseeded Clouds')\n",
    "plt.hist(df_datos_cloud['Seeded Clouds'].values, alpha=0.5, density=True, label='Seeded Clouds')\n",
    "plt.xlabel('Precipitacion generada')\n",
    "plt.legend(loc='upper right')\n",
    "plt.show()"
   ]
  },
  {
   "cell_type": "markdown",
   "metadata": {},
   "source": [
    "Un buen estimador para 𝜃 puede ser restar las medias de ambos grupos, por lo tanto consideraré dicho estimador:"
   ]
  },
  {
   "cell_type": "code",
   "execution_count": 3,
   "metadata": {},
   "outputs": [
    {
     "name": "stdout",
     "output_type": "stream",
     "text": [
      "Un buen estimador para 𝜃 es: 277.3961538461539\n"
     ]
    }
   ],
   "source": [
    "import numpy as np\n",
    "\n",
    "betha_sombrerito = np.mean(df_datos_cloud['Seeded Clouds'].values) - np.mean(df_datos_cloud['Unseeded Clouds'].values)\n",
    "\n",
    "print(f'Un buen estimador para 𝜃 es: {betha_sombrerito}')"
   ]
  },
  {
   "cell_type": "markdown",
   "metadata": {},
   "source": [
    "## b) \n",
    "Estimar el error estándar de la estimación de 𝜃 y producir un intervalo de confianza del 95%"
   ]
  },
  {
   "cell_type": "markdown",
   "metadata": {},
   "source": [
    "### Desarrollo"
   ]
  }
 ],
 "metadata": {
  "kernelspec": {
   "display_name": "estat_inferencia",
   "language": "python",
   "name": "python3"
  },
  "language_info": {
   "codemirror_mode": {
    "name": "ipython",
    "version": 3
   },
   "file_extension": ".py",
   "mimetype": "text/x-python",
   "name": "python",
   "nbconvert_exporter": "python",
   "pygments_lexer": "ipython3",
   "version": "3.11.4"
  }
 },
 "nbformat": 4,
 "nbformat_minor": 2
}
