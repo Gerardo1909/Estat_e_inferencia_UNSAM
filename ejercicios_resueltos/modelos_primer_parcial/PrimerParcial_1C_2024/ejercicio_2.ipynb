{
 "cells": [
  {
   "cell_type": "markdown",
   "metadata": {},
   "source": [
    "# Ejercicio 2 - Parcial"
   ]
  },
  {
   "cell_type": "markdown",
   "metadata": {},
   "source": [
    "Sea 𝑍 la variable aleatoria con distribución skew-normal de parámetro 𝑎 = 10. Consideremos\n",
    "la función 𝑓 : R → R dada por 𝑓 (𝑥) = 2𝑥 − 1. Sean 𝑋 ∼ U (0, 1) y 𝑌 B 𝑓 (𝑋) + 𝑍."
   ]
  },
  {
   "cell_type": "markdown",
   "metadata": {},
   "source": [
    "### Aclaración\n",
    "\n",
    "Dado 𝑎 ∈ R, la variable aleatoria skew-normal de parámetro a es la que tiene pdf dada por 𝑓 (𝑥) = 2𝜙 (𝑥)Φ(𝑎𝑥), donde\n",
    "𝜙 y Φ son la pdf y la cdf de la normal estándar. Para usarla en Python, se puede importar usando from scipy.stats\n",
    "import skewnorm y luego se puede samplear con skewnorm.rvs(a=10, size=100), para una muestra de tamaño\n",
    "100 con 𝑎 = 10."
   ]
  },
  {
   "cell_type": "markdown",
   "metadata": {},
   "source": [
    "## a)\n",
    "Fijemos 𝑛 = 100. Tomar muestras 𝑥1, . . . , 𝑥𝑛 de 𝑋 y 𝑧1, . . . , 𝑧𝑛 de 𝑍 y calcular 𝑦𝑖 = 𝑓 (𝑥𝑖) + 𝑧𝑖,\n",
    "con 1 ≤ 𝑖 ≤ 𝑛. Realizar un ajuste lineal de la forma 𝑌 = 𝑋 𝛽1 + 𝛽0 + 𝜖 a partir de los samples\n",
    "(𝑥1, 𝑦1), . . . , (𝑥𝑛, 𝑦𝑛) generados."
   ]
  },
  {
   "cell_type": "markdown",
   "metadata": {},
   "source": [
    "### Desarrollo"
   ]
  },
  {
   "cell_type": "code",
   "execution_count": null,
   "metadata": {},
   "outputs": [],
   "source": [
    "# Aquí va código de Python"
   ]
  },
  {
   "cell_type": "markdown",
   "metadata": {},
   "source": [
    "## b)\n",
    "Repetir el paso anterior𝑚 = 30 veces para obtener𝑚 pares de coeficientes 𝛽0 y 𝛽1, es decir,𝑚\n",
    "samples de 𝛽ˆ0 y 𝑚 samples de 𝛽ˆ1. ¿Diríamos que estas distribuciones empíricas son normales?\n",
    "Hacer histogramas para comprobarlo."
   ]
  },
  {
   "cell_type": "markdown",
   "metadata": {},
   "source": [
    "### Desarrollo"
   ]
  },
  {
   "cell_type": "code",
   "execution_count": null,
   "metadata": {},
   "outputs": [],
   "source": [
    "# Aquí va código de Python"
   ]
  }
 ],
 "metadata": {
  "kernelspec": {
   "display_name": "estat_inferencia",
   "language": "python",
   "name": "python3"
  },
  "language_info": {
   "name": "python",
   "version": "3.11.4"
  }
 },
 "nbformat": 4,
 "nbformat_minor": 2
}
