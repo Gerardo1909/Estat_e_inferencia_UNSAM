{
 "cells": [
  {
   "cell_type": "markdown",
   "metadata": {},
   "source": [
    "# Ejercicio 2 - Parcial"
   ]
  },
  {
   "cell_type": "markdown",
   "metadata": {},
   "source": [
    "Sea 𝑍 la variable aleatoria con distribución skew-normal de parámetro 𝑎 = 10. Consideremos\n",
    "la función 𝑓 : R → R dada por 𝑓 (𝑥) = 2𝑥 − 1. Sean 𝑋 ∼ U (0, 1) y 𝑌 := 𝑓 (𝑋) + 𝑍."
   ]
  },
  {
   "cell_type": "markdown",
   "metadata": {},
   "source": [
    "### Aclaración\n",
    "\n",
    "Dado 𝑎 ∈ R, la variable aleatoria skew-normal de parámetro a es la que tiene pdf dada por 𝑓 (𝑥) = 2𝜙 (𝑥)Φ(𝑎𝑥), donde\n",
    "𝜙 y Φ son la pdf y la cdf de la normal estándar. Para usarla en Python, se puede importar usando from scipy.stats\n",
    "import skewnorm y luego se puede samplear con skewnorm.rvs(a=10, size=100), para una muestra de tamaño\n",
    "100 con 𝑎 = 10."
   ]
  },
  {
   "cell_type": "markdown",
   "metadata": {},
   "source": [
    "## a)\n",
    "Fijemos 𝑛 = 100. Tomar muestras 𝑥1, . . . , 𝑥𝑛 de 𝑋 y 𝑧1, . . . , 𝑧𝑛 de 𝑍 y calcular 𝑦𝑖 = 𝑓 (𝑥𝑖) + 𝑧𝑖,\n",
    "con 1 ≤ 𝑖 ≤ 𝑛. Realizar un ajuste lineal de la forma 𝑌 = 𝑋 𝛽1 + 𝛽0 + 𝜖 a partir de los samples\n",
    "(𝑥1, 𝑦1), . . . , (𝑥𝑛, 𝑦𝑛) generados."
   ]
  },
  {
   "cell_type": "markdown",
   "metadata": {},
   "source": [
    "### Desarrollo"
   ]
  },
  {
   "cell_type": "markdown",
   "metadata": {},
   "source": [
    "Primero obtengo las muestras y defino las funciones que voy a utilizar:"
   ]
  },
  {
   "cell_type": "code",
   "execution_count": 1,
   "metadata": {},
   "outputs": [],
   "source": [
    "from scipy.stats import skewnorm, uniform\n",
    "import numpy as np\n",
    "\n",
    "# Planto la semilla para que los resultados sean reproducibles\n",
    "np.random.seed(19)\n",
    "\n",
    "# Defino la longitud y muestras que voy a tomar\n",
    "longitud_muestra = 100\n",
    "X = uniform.rvs(size=longitud_muestra)\n",
    "Z = skewnorm.rvs(a=10, size=longitud_muestra)\n",
    "\n",
    "# Defino la función f\n",
    "def f(x):\n",
    "    return 2*x -1\n",
    "\n",
    "# Ahora defino a Y\n",
    "Y = f(X) + Z"
   ]
  },
  {
   "cell_type": "markdown",
   "metadata": {},
   "source": [
    "Y ahora realizo el ajuste lineal:"
   ]
  },
  {
   "cell_type": "code",
   "execution_count": 2,
   "metadata": {},
   "outputs": [
    {
     "name": "stdout",
     "output_type": "stream",
     "text": [
      "Coeficientes estimados:\n",
      "B0 = -0.21\n",
      "B1 = 1.99\n"
     ]
    }
   ],
   "source": [
    "# Quiero hacer el ajuste lineal de la forma Y = XB1 + B0\n",
    "# Para ello, defino la matriz X\n",
    "X = np.column_stack((np.ones(longitud_muestra), X))\n",
    "\n",
    "# Defino la función para hacer el ajuste por minimos cuadrados\n",
    "minimos_cuadrados = lambda X, Y: np.linalg.inv(X.T @ X) @ X.T @ Y\n",
    "\n",
    "# Realizo el ajuste e imprimo los pesos obtenidos\n",
    "B = minimos_cuadrados(X, Y)\n",
    "print('Coeficientes estimados:')\n",
    "print(f'B0 = {B[0]:.2f}')\n",
    "print(f'B1 = {B[1]:.2f}')"
   ]
  },
  {
   "cell_type": "markdown",
   "metadata": {},
   "source": [
    "## b)\n",
    "Repetir el paso anterior 𝑚 = 30 veces para obtener 𝑚 pares de coeficientes 𝛽0 y 𝛽1, es decir, 𝑚\n",
    "samples de 𝛽ˆ0 y 𝑚 samples de 𝛽ˆ1. ¿Diríamos que estas distribuciones empíricas son normales?\n",
    "Hacer histogramas para comprobarlo."
   ]
  },
  {
   "cell_type": "markdown",
   "metadata": {},
   "source": [
    "### Desarrollo"
   ]
  },
  {
   "cell_type": "markdown",
   "metadata": {},
   "source": [
    "Armo todo el sistema para repetir el paso anterior:"
   ]
  },
  {
   "cell_type": "code",
   "execution_count": 6,
   "metadata": {},
   "outputs": [],
   "source": [
    "# Defino la cantidad de iteraciones\n",
    "m = 30\n",
    "\n",
    "# Armo una matriz donde voy guardando los coeficientes estimados B0 y B1\n",
    "B = np.zeros((m, 2))\n",
    "\n",
    "# Realizo las m iteraciones\n",
    "for i in range(m):\n",
    "    \n",
    "    X = uniform.rvs(size=longitud_muestra)\n",
    "    Z = skewnorm.rvs(a=10, size=longitud_muestra)\n",
    "    Y = f(X) + Z\n",
    "    betas = minimos_cuadrados(np.column_stack((np.ones(longitud_muestra), X)), Y)\n",
    "    \n",
    "    B[i, 0] = betas[0]\n",
    "    B[i, 1] = betas[1]"
   ]
  },
  {
   "cell_type": "markdown",
   "metadata": {},
   "source": [
    "Y ahora hago un gráfico de la distribución empírica de ambas variables para analizar si son normales:"
   ]
  },
  {
   "cell_type": "code",
   "execution_count": 7,
   "metadata": {},
   "outputs": [
    {
     "data": {
      "image/png": "[encoded data removed]",
      "text/plain": [
       "<Figure size 1000x500 with 2 Axes>"
      ]
     },
     "metadata": {},
     "output_type": "display_data"
    }
   ],
   "source": [
    "import matplotlib.pyplot as plt\n",
    "\n",
    "fig, ax = plt.subplots(1, 2, figsize=(10, 5))\n",
    "\n",
    "# Separo B0 y B1\n",
    "B0 = B[:, 0]\n",
    "B1 = B[:, 1]\n",
    "\n",
    "# Grafico los histogramas\n",
    "ax[0].hist(B0, bins=10, edgecolor='black')\n",
    "ax[0].set_title('Histograma de B0')\n",
    "ax[0].set_xlabel('B0')\n",
    "\n",
    "ax[1].hist(B1, bins=10, edgecolor='black')\n",
    "ax[1].set_title('Histograma de B1')\n",
    "ax[1].set_xlabel('B1')\n",
    "\n",
    "plt.tight_layout()\n",
    "plt.show()"
   ]
  },
  {
   "cell_type": "markdown",
   "metadata": {},
   "source": [
    "Por lo observado en el gráfico, claramente se puede notar que ninguna de las dos distribuciones empíricas se aproximan a una normal por más que se \n",
    "tomaron **30 muestras**.\n",
    "\n",
    "* Se puede notar como en **el gráfico de B0** no existe simetría y hay valores que suelen aparecer más que otros, como lo son aquellos en el rango \n",
    "  entre (-0.1, 0)\n",
    "\n",
    "* En el caso del **gráfico de B1** podemos ver que existe cierta bimodalidad que hace que la distribución no sea simétrica, cosa que provoca que tampoco\n",
    "  se aproxime a una normal"
   ]
  }
 ],
 "metadata": {
  "kernelspec": {
   "display_name": "estat_inferencia",
   "language": "python",
   "name": "python3"
  },
  "language_info": {
   "codemirror_mode": {
    "name": "ipython",
    "version": 3
   },
   "file_extension": ".py",
   "mimetype": "text/x-python",
   "name": "python",
   "nbconvert_exporter": "python",
   "pygments_lexer": "ipython3",
   "version": "3.11.4"
  }
 },
 "nbformat": 4,
 "nbformat_minor": 2
}
