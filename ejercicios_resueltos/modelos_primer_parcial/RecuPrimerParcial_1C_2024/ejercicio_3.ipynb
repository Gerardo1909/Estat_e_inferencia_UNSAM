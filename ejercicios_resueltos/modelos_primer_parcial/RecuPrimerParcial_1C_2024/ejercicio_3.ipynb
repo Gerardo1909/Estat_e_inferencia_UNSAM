{
 "cells": [
  {
   "cell_type": "markdown",
   "metadata": {},
   "source": [
    "# Ejercicio 3 - Parcial"
   ]
  },
  {
   "cell_type": "markdown",
   "metadata": {},
   "source": [
    "Generar 𝑛 = 100 samples de 𝑋1 ∼ U (0, 1), de 𝑍 ∼ N(0, 0.1) y de 𝜀 ∼ N(0, 1); a partir de ellas\n",
    "generar 𝑛 samples de 𝑋2 := 0.5𝑋1 + 𝑍 y de\n",
    "\n",
    "𝑌 := 2 + 2𝑋1 + 0.3𝑋2 + 𝜀."
   ]
  },
  {
   "cell_type": "markdown",
   "metadata": {},
   "source": [
    "## a)\n",
    "Calcular la correlación entre las muestras de 𝑋1 y 𝑋2, y graficar su distribución conjunta."
   ]
  },
  {
   "cell_type": "markdown",
   "metadata": {},
   "source": [
    "### Desarrollo"
   ]
  },
  {
   "cell_type": "code",
   "execution_count": null,
   "metadata": {},
   "outputs": [],
   "source": [
    "# Aquí va código de Python"
   ]
  },
  {
   "cell_type": "markdown",
   "metadata": {},
   "source": [
    "## b)\n",
    "Ajusta un modelo de regresión lineal por mínimos cuadrados para predecir 𝑌 utilizando tanto\n",
    "𝑋1 como 𝑋2. Describir los resultados obtenidos, incluyendo los coeficientes de regresión 𝛽ˆ0, 𝛽ˆ1 y 𝛽ˆ2, y analizar \n",
    "la relación entre estos coeficientes y los verdaderos 𝛽0, 𝛽1 y 𝛽2."
   ]
  },
  {
   "cell_type": "markdown",
   "metadata": {},
   "source": [
    "### Desarrollo"
   ]
  },
  {
   "cell_type": "code",
   "execution_count": null,
   "metadata": {},
   "outputs": [],
   "source": [
    "# Aquí va código de Python"
   ]
  }
 ],
 "metadata": {
  "kernelspec": {
   "display_name": "estat_inferencia",
   "language": "python",
   "name": "python3"
  },
  "language_info": {
   "name": "python",
   "version": "3.11.4"
  }
 },
 "nbformat": 4,
 "nbformat_minor": 2
}
