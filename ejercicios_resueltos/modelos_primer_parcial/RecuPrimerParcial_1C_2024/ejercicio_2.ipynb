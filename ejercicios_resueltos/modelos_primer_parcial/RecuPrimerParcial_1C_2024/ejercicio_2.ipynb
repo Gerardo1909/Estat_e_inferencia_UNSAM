{
 "cells": [
  {
   "cell_type": "markdown",
   "metadata": {},
   "source": [
    "# Ejercicio 2 - Parcial"
   ]
  },
  {
   "cell_type": "markdown",
   "metadata": {},
   "source": [
    "Considerar los datasets de la distancia anual entre Urano y Saturno (en unidades astronómicas)\n",
    "y la generación de energía nuclear por hora en Brasil (kWh), encontrados en este sitio: https:\n",
    "//tinyurl.com/2k3h8bz4 (los datos están a mitad de página)."
   ]
  },
  {
   "cell_type": "markdown",
   "metadata": {},
   "source": [
    "### Ayuda\n",
    "\n",
    "Si se usan funciones de librería scipy.stats, prestar atención a vectorized=False, paired=True"
   ]
  },
  {
   "cell_type": "markdown",
   "metadata": {},
   "source": [
    "## a)\n",
    "Encontrar el estimador plug-in del coeficiente de correlación entre ambos conjuntos de datos."
   ]
  },
  {
   "cell_type": "markdown",
   "metadata": {},
   "source": [
    "### Desarrollo"
   ]
  },
  {
   "cell_type": "markdown",
   "metadata": {},
   "source": [
    "Primero empiezo por leer los datos:"
   ]
  },
  {
   "cell_type": "code",
   "execution_count": 1,
   "metadata": {},
   "outputs": [
    {
     "name": "stdout",
     "output_type": "stream",
     "text": [
      "<class 'pandas.core.frame.DataFrame'>\n",
      "RangeIndex: 40 entries, 0 to 39\n",
      "Data columns (total 2 columns):\n",
      " #   Column                                            Non-Null Count  Dtype  \n",
      "---  ------                                            --------------  -----  \n",
      " 0   Planetary distance (AU)                           40 non-null     float64\n",
      " 1   Nuclear power generation in Brazil (Billion kWh)  40 non-null     float64\n",
      "dtypes: float64(2)\n",
      "memory usage: 772.0 bytes\n"
     ]
    }
   ],
   "source": [
    "import pandas as pd \n",
    "import os \n",
    "\n",
    "ruta_datos = os.path.join('..', '..', '..', 'datos', 'raw', 'planetary_distance_nuclear_power.csv')\n",
    "\n",
    "df_distancia_nuclear = pd.read_csv(ruta_datos)\n",
    "\n",
    "df_distancia_nuclear.info()"
   ]
  },
  {
   "cell_type": "markdown",
   "metadata": {},
   "source": [
    "Hallo el estimador plug-in del coeficiente de correlación:"
   ]
  },
  {
   "cell_type": "code",
   "execution_count": 2,
   "metadata": {},
   "outputs": [
    {
     "name": "stdout",
     "output_type": "stream",
     "text": [
      "Estimador plug-in de la correlación:0.9108140085329718\n"
     ]
    }
   ],
   "source": [
    "import numpy as np\n",
    "\n",
    "# Planto la semilla para que los resultados sean reconocibles\n",
    "np.random.seed(19)\n",
    "\n",
    "distancia_planetaria = df_distancia_nuclear['Planetary distance (AU)'].values\n",
    "potencia_nuclear = df_distancia_nuclear['Nuclear power generation in Brazil (Billion kWh)'].values\n",
    "\n",
    "# Obtengo el estimador plug-in de la correlación\n",
    "estimador = np.corrcoef(distancia_planetaria, potencia_nuclear)[0, 1]\n",
    "\n",
    "print(f'Estimador plug-in de la correlación:{estimador}')"
   ]
  },
  {
   "cell_type": "markdown",
   "metadata": {},
   "source": [
    "## b)\n",
    "Estimar su error estándar usando bootstrap."
   ]
  },
  {
   "cell_type": "markdown",
   "metadata": {},
   "source": [
    "### Desarrollo"
   ]
  },
  {
   "cell_type": "markdown",
   "metadata": {},
   "source": [
    "Calculo el error estándar para este caso usando el método percentil, aunque podría servir con cualquier otro: "
   ]
  },
  {
   "cell_type": "code",
   "execution_count": 8,
   "metadata": {},
   "outputs": [
    {
     "name": "stdout",
     "output_type": "stream",
     "text": [
      "Error estándar del estimador del coeficiente de correlación con bootstrap: 0.01947442620811697\n"
     ]
    }
   ],
   "source": [
    "from scipy.stats import bootstrap\n",
    "\n",
    "# Guardo las observaciones en un array\n",
    "observaciones = (distancia_planetaria, potencia_nuclear)\n",
    "\n",
    "# Defino la función que le voy a pasar a bootstrap\n",
    "def correlacion(grupo1, grupo2):\n",
    "    return np.corrcoef(grupo1, grupo2)[0, 1]\n",
    "\n",
    "bs_percentile = bootstrap(observaciones, correlacion, confidence_level= 0.95 ,method= 'percentile', vectorized= False, paired= True)\n",
    "\n",
    "print(f'Error estándar del estimador del coeficiente de correlación con bootstrap: {bs_percentile.standard_error}')\n"
   ]
  },
  {
   "cell_type": "markdown",
   "metadata": {},
   "source": [
    "## c)\n",
    "Encontrar un intervalo de confianza de nivel 0.95 usando los métodos normal, percentile\n",
    "bootstrap, basic bootstrap y BCa."
   ]
  },
  {
   "cell_type": "markdown",
   "metadata": {},
   "source": [
    "### Desarrollo"
   ]
  },
  {
   "cell_type": "markdown",
   "metadata": {},
   "source": [
    "Para realizar este inciso utilizo la función bootstrap de la librería scipy como antes hice para calcular el error estándar y además utilizo las funciones y datos definidos anteriormente:"
   ]
  },
  {
   "cell_type": "code",
   "execution_count": 12,
   "metadata": {},
   "outputs": [
    {
     "name": "stdout",
     "output_type": "stream",
     "text": [
      "Intervalo de confianza para la desviación estándar usando el método normal: [0.8724550959247062, 0.9491729211412374]\n",
      "Intervalo de confianza para la desviación estándar usando el método percentil: [0.8683198605926068, 0.9449579303586303]\n",
      "Intervalo de confianza para la desviación estándar usando el basic bootstrap: [0.8773016159260784, 0.953217341200946]\n",
      "Intervalo de confianza para la desviación estándar usando el BCa bootstrap: [0.8607590687160194, 0.941488991164435]\n"
     ]
    }
   ],
   "source": [
    "intervalo_percentil = bootstrap(observaciones, correlacion, confidence_level= 0.95 ,method= 'percentile', vectorized= False, paired= True)\n",
    "intervalo_basic = bootstrap(observaciones, correlacion, confidence_level= 0.95 ,method= 'basic', vectorized= False, paired= True)\n",
    "intervalo_bca = bootstrap(observaciones, correlacion, confidence_level= 0.95 ,method= 'bca', vectorized= False, paired= True)\n",
    "intervalo_normal = [estimador -1.96*intervalo_percentil.standard_error, estimador +1.96*intervalo_percentil.standard_error]\n",
    "\n",
    "print(f'Intervalo de confianza para la desviación estándar usando el método normal: [{intervalo_normal[0]}, {intervalo_normal[1]}]')\n",
    "print(f'Intervalo de confianza para la desviación estándar usando el método percentil: [{intervalo_percentil.confidence_interval.low}, {intervalo_percentil.confidence_interval.high}]')\n",
    "print(f'Intervalo de confianza para la desviación estándar usando el basic bootstrap: [{intervalo_basic.confidence_interval.low}, {intervalo_basic.confidence_interval.high}]')\n",
    "print(f'Intervalo de confianza para la desviación estándar usando el BCa bootstrap: [{intervalo_bca.confidence_interval.low}, {intervalo_bca.confidence_interval.high}]')"
   ]
  }
 ],
 "metadata": {
  "kernelspec": {
   "display_name": "estat_inferencia",
   "language": "python",
   "name": "python3"
  },
  "language_info": {
   "codemirror_mode": {
    "name": "ipython",
    "version": 3
   },
   "file_extension": ".py",
   "mimetype": "text/x-python",
   "name": "python",
   "nbconvert_exporter": "python",
   "pygments_lexer": "ipython3",
   "version": "3.11.4"
  }
 },
 "nbformat": 4,
 "nbformat_minor": 2
}
