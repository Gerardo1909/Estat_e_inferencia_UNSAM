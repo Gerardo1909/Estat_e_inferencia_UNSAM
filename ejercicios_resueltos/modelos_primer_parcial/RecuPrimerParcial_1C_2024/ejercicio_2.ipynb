{
 "cells": [
  {
   "cell_type": "markdown",
   "metadata": {},
   "source": [
    "# Ejercicio 2 - Parcial"
   ]
  },
  {
   "cell_type": "markdown",
   "metadata": {},
   "source": [
    "Considerar los datasets de la distancia anual entre Urano y Saturno (en unidades astronómicas)\n",
    "y la generación de energía nuclear por hora en Brasil (kWh), encontrados en este sitio: https:\n",
    "//tinyurl.com/2k3h8bz4 (los datos están a mitad de página)."
   ]
  },
  {
   "cell_type": "markdown",
   "metadata": {},
   "source": [
    "### Ayuda\n",
    "\n",
    "Si se usan funciones de librería scipy.stats, prestar atención a vectorized=False, paired=True"
   ]
  },
  {
   "cell_type": "markdown",
   "metadata": {},
   "source": [
    "## a)\n",
    "Encontrar el estimador plug-in del coeficiente de correlación entre ambos conjuntos de datos."
   ]
  },
  {
   "cell_type": "markdown",
   "metadata": {},
   "source": [
    "### Desarrollo"
   ]
  },
  {
   "cell_type": "markdown",
   "metadata": {},
   "source": [
    "Primero empiezo por leer los datos:"
   ]
  },
  {
   "cell_type": "code",
   "execution_count": 1,
   "metadata": {},
   "outputs": [
    {
     "name": "stdout",
     "output_type": "stream",
     "text": [
      "<class 'pandas.core.frame.DataFrame'>\n",
      "RangeIndex: 40 entries, 0 to 39\n",
      "Data columns (total 2 columns):\n",
      " #   Column                                            Non-Null Count  Dtype  \n",
      "---  ------                                            --------------  -----  \n",
      " 0   Planetary distance (AU)                           40 non-null     float64\n",
      " 1   Nuclear power generation in Brazil (Billion kWh)  40 non-null     float64\n",
      "dtypes: float64(2)\n",
      "memory usage: 772.0 bytes\n"
     ]
    }
   ],
   "source": [
    "import pandas as pd \n",
    "import os \n",
    "\n",
    "ruta_datos = os.path.join('..', '..', '..', 'datos', 'raw', 'planetary_distance_nuclear_power.csv')\n",
    "\n",
    "df_distancia_nuclear = pd.read_csv(ruta_datos)\n",
    "\n",
    "df_distancia_nuclear.info()"
   ]
  },
  {
   "cell_type": "markdown",
   "metadata": {},
   "source": [
    "Hallo el estimador plug-in del coeficiente de correlación:"
   ]
  },
  {
   "cell_type": "code",
   "execution_count": 2,
   "metadata": {},
   "outputs": [
    {
     "name": "stdout",
     "output_type": "stream",
     "text": [
      "Estimador plug-in de la correlación:0.9108140085329718\n"
     ]
    }
   ],
   "source": [
    "import numpy as np\n",
    "\n",
    "distancia_planetaria = df_distancia_nuclear['Planetary distance (AU)'].values\n",
    "potencia_nuclear = df_distancia_nuclear['Nuclear power generation in Brazil (Billion kWh)'].values\n",
    "\n",
    "# Obtengo el estimador plug-in de la correlación\n",
    "estimador = np.corrcoef(distancia_planetaria, potencia_nuclear)[0, 1]\n",
    "\n",
    "print(f'Estimador plug-in de la correlación:{estimador}')"
   ]
  },
  {
   "cell_type": "markdown",
   "metadata": {},
   "source": [
    "## b)\n",
    "Estimar su error estándar usando bootstrap."
   ]
  },
  {
   "cell_type": "markdown",
   "metadata": {},
   "source": [
    "### Desarrollo"
   ]
  },
  {
   "cell_type": "markdown",
   "metadata": {},
   "source": [
    "Defino un **n** que represente la cantidad de iteraciones bootstrap y armo una matriz de la misma longitud **n** donde voy\n",
    "guardando la correlación de cada muestreo, para luego calcular su error estándar: "
   ]
  },
  {
   "cell_type": "code",
   "execution_count": 3,
   "metadata": {},
   "outputs": [
    {
     "name": "stdout",
     "output_type": "stream",
     "text": [
      "Error estándar del estimador del coeficiente de correlación con bootstrap: 0.005126567136792374\n"
     ]
    }
   ],
   "source": [
    "from scipy.stats import sem\n",
    "\n",
    "n = 1000\n",
    "estimadores = np.zeros(n)\n",
    "for i in range(n):\n",
    "    bs_planetary_dist = np.random.choice(distancia_planetaria, size=len(distancia_planetaria), replace=True)\n",
    "    bs_nuclear_pot = np.random.choice(potencia_nuclear, size=len(potencia_nuclear), replace=True)\n",
    "    estimadores[i] = np.corrcoef(bs_planetary_dist, bs_nuclear_pot)[0, 1]\n",
    "    \n",
    "error_estandar = sem(estimadores)\n",
    "print(f'Error estándar del estimador del coeficiente de correlación con bootstrap: {error_estandar}')"
   ]
  },
  {
   "cell_type": "markdown",
   "metadata": {},
   "source": [
    "## c)\n",
    "Encontrar un intervalo de confianza de nivel 0.95 usando los métodos normal, percentile\n",
    "bootstrap, basic bootstrap y BCa."
   ]
  },
  {
   "cell_type": "markdown",
   "metadata": {},
   "source": [
    "### Desarrollo"
   ]
  },
  {
   "cell_type": "code",
   "execution_count": 4,
   "metadata": {},
   "outputs": [
    {
     "name": "stdout",
     "output_type": "stream",
     "text": [
      "Intervalo de confianza para la desviación estándar usando el método normal: (np.float64(0.9007659369448587), np.float64(0.9208620801210848))\n",
      "Intervalo de confianza para la desviación estándar usando el método percentil: [-0.29938741  0.33635065]\n",
      "Intervalo de confianza para la desviación estándar usando el basic bootstrap: (np.float64(1.4852773656916438), np.float64(2.121015430134203))\n",
      "Intervalo de confianza para la desviación estándar usando el BCa bootstrap: [0.8583493] , [0.93882955]\n"
     ]
    }
   ],
   "source": [
    "from arch.bootstrap import IIDBootstrap\n",
    "\n",
    "# Armo un intervalo de confianza 0.95 para la desviación estándar usando el método normal\n",
    "intervalo_normal = (estimador - 1.96 * error_estandar, estimador + 1.96 * error_estandar)\n",
    "\n",
    "# Armo un intervalo de confianza 0.95 para la desviación estándar usando el método percentil\n",
    "intervalo_percentil = np.percentile(estimadores, [2.5, 97.5])\n",
    "\n",
    "# Armo un intervalo de confianza 0.95 para la desviación estándar usando el basic bootstrap\n",
    "intervalo_basic = (2 * estimador - np.percentile(estimadores, 97.5), 2 * estimador - np.percentile(estimadores, 2.5))\n",
    "\n",
    "# Para armar un intervalo de confianza usando el método BCa, necesito definir la función que devuelve la correlación\n",
    "# Notar que debe ser una función que reciba un solo argumento\n",
    "calcular_corrocoef = lambda data: np.corrcoef(data[:, 0], data[:, 1])[0, 1]\n",
    "\n",
    "# Armo la matriz en donde estará la muestra sobre la cual se aplica la función\n",
    "muestra = np.column_stack((distancia_planetaria, potencia_nuclear))\n",
    "\n",
    "# Ahora si uso el método bca\n",
    "bs = IIDBootstrap(muestra)\n",
    "intervalo_bca = bs.conf_int(calcular_corrocoef, reps=1000, method='bca')\n",
    "\n",
    "print(f'Intervalo de confianza para la desviación estándar usando el método normal: {intervalo_normal}')\n",
    "print(f'Intervalo de confianza para la desviación estándar usando el método percentil: {intervalo_percentil}')\n",
    "print(f'Intervalo de confianza para la desviación estándar usando el basic bootstrap: {intervalo_basic}')\n",
    "print(f'Intervalo de confianza para la desviación estándar usando el BCa bootstrap: {intervalo_bca[0]} , {intervalo_bca[1]}')"
   ]
  }
 ],
 "metadata": {
  "kernelspec": {
   "display_name": "estat_inferencia",
   "language": "python",
   "name": "python3"
  },
  "language_info": {
   "codemirror_mode": {
    "name": "ipython",
    "version": 3
   },
   "file_extension": ".py",
   "mimetype": "text/x-python",
   "name": "python",
   "nbconvert_exporter": "python",
   "pygments_lexer": "ipython3",
   "version": "3.11.4"
  }
 },
 "nbformat": 4,
 "nbformat_minor": 2
}
